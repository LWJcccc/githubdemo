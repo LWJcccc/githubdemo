{
 "cells": [
  {
   "cell_type": "code",
   "execution_count": 2,
   "metadata": {
    "ExecuteTime": {
     "end_time": "2020-11-30T08:57:50.919220Z",
     "start_time": "2020-11-30T08:57:50.912221Z"
    }
   },
   "outputs": [],
   "source": [
    "#导入库\n",
    "from keras.layers import Input, Dense, Flatten, Dropout, Activation \n",
    "from keras.layers.normalization import BatchNormalization\n",
    "from keras.preprocessing.image import ImageDataGenerator\n",
    "from keras.callbacks import TensorBoard\n",
    "from keras.preprocessing import image\n",
    "from keras.models import load_model\n",
    "from keras.models import Model\n",
    "import matplotlib.pyplot as plt\n",
    "import glob, os, cv2, random,time\n",
    "import numpy as np\n",
    "from keras.models import Sequential\n",
    "from keras.layers import Conv2D,Flatten,MaxPooling2D,Dense \n",
    "from keras.optimizers import SGD\n",
    "from keras.applications.vgg16 import VGG16"
   ]
  },
  {
   "cell_type": "markdown",
   "metadata": {},
   "source": [
    "# 数据预处理\n",
    "data_path: 数据集路径\n",
    "train, test:处理后的训练集数据、测试集数据"
   ]
  },
  {
   "cell_type": "code",
   "execution_count": 3,
   "metadata": {
    "ExecuteTime": {
     "end_time": "2020-11-30T08:57:51.859798Z",
     "start_time": "2020-11-30T08:57:51.830876Z"
    }
   },
   "outputs": [],
   "source": [
    "def processing_data(data_path):\n",
    "    #生成训练集\n",
    "    train_data = ImageDataGenerator(\n",
    "            # 对图片的每个像素值均乘上这个放缩因子，把像素值放缩到0和1之间有利于模型的收敛\n",
    "            rescale=1. / 225,  \n",
    "            # 浮点数，剪切强度（逆时针方向的剪切变换角度）\n",
    "            shear_range=0.1,  \n",
    "            # 随机缩放的幅度，若为浮点数，则相当于[lower,upper] = [1 - zoom_range, 1+zoom_range]\n",
    "            zoom_range=0.1,\n",
    "            # 浮点数，图片宽度的某个比例，数据提升时图片水平偏移的幅度\n",
    "            width_shift_range=0.1,\n",
    "            # 浮点数，图片高度的某个比例，数据提升时图片竖直偏移的幅度\n",
    "            height_shift_range=0.1,\n",
    "            # 布尔值，进行随机水平翻转\n",
    "            horizontal_flip=True,\n",
    "            # 布尔值，进行随机竖直翻转\n",
    "            vertical_flip=True,\n",
    "            # 在 0 和 1 之间浮动。用作验证集的训练数据的比例\n",
    "            validation_split=0.1  \n",
    "    )\n",
    "    # 生成测试集\n",
    "    validation_data = ImageDataGenerator(\n",
    "            rescale=1. / 255,\n",
    "            validation_split=0.1)\n",
    "    \n",
    "    #以文件夹路径为参数,生成经过归一化后的数据,在一个无限循环中无限产生batch数据\n",
    "    train_generator = train_data.flow_from_directory(\n",
    "            # 提供的路径下面需要有子目录\n",
    "            data_path, \n",
    "            # 整数元组 (height, width)，默认：(256, 256)。 所有的图像将被调整到的尺寸。\n",
    "            target_size=(150, 150),\n",
    "            # 一批数据的大小\n",
    "            batch_size=256,\n",
    "            # \"categorical\", \"binary\", \"sparse\", \"input\" 或 None 之一。\n",
    "            # 默认：\"categorical\",返回one-hot 编码标签。\n",
    "            class_mode='categorical',\n",
    "            # 数据子集 (\"training\" 或 \"validation\")\n",
    "            subset='training', \n",
    "            seed=0)\n",
    "    validation_generator = validation_data.flow_from_directory(\n",
    "            data_path,\n",
    "            target_size=(150, 150),\n",
    "            batch_size=256,\n",
    "            class_mode='categorical',\n",
    "            subset='validation',\n",
    "            seed=0)\n",
    "\n",
    "    return train_generator, validation_generator"
   ]
  },
  {
   "cell_type": "markdown",
   "metadata": {
    "ExecuteTime": {
     "end_time": "2020-11-29T11:23:39.094083Z",
     "start_time": "2020-11-29T11:23:37.662231Z"
    }
   },
   "source": [
    "# 模型的建立\n",
    "本次实验采用Vgg16模型"
   ]
  },
  {
   "cell_type": "code",
   "execution_count": 26,
   "metadata": {
    "ExecuteTime": {
     "end_time": "2020-11-30T12:10:21.725200Z",
     "start_time": "2020-11-30T12:10:21.698275Z"
    }
   },
   "outputs": [],
   "source": [
    "def model(train_generator, validation_generator, save_model_path):\n",
    "    '''\n",
    "    weights='imagenet' 使用ImageNet上预训练的模型，用ImageNet的参数初始化模型的参数\n",
    "    include_top = False 是否包含最上层的全连接层 表明迁移除顶层以外的其余网络结构到自己的模型中\n",
    "    input_shape 输入进来的数据是150*150 3通道\n",
    "    通过.add()方法一个个的将layer加入模型中\n",
    "    '''\n",
    "    vgg16_model = VGG16(weights='imagenet',include_top=False, input_shape=(150,150,3))\n",
    "    top_model = Sequential()\n",
    "    # Flatten层用来将输入“压平”，即把多维的输入一维化，常用在从卷积层到全连接层的过渡\n",
    "    top_model.add(Flatten(input_shape=vgg16_model.output_shape[1:]))\n",
    "    # dense 全连接 activation: 激活函数\n",
    "    top_model.add(Dense(256,activation='relu'))\n",
    "    top_model.add(Dropout(0.5))\n",
    "    top_model.add(Dense(4,activation='softmax'))\n",
    "\n",
    "    model = Sequential()\n",
    "    model.add(vgg16_model)\n",
    "    model.add(top_model)\n",
    "    # 配置模型学习过程, 采用 compile 函数: https://keras.io/models/model/#compile\n",
    "    model.compile(\n",
    "             # 优化器, 主要有Adam、sgd、rmsprop等方式。\n",
    "            # SGD 每次更新时对每个样本进行梯度更新, 一次只进行一次更新，就没有冗余，而且比较快，并且可以新增样本\n",
    "            # lr: float >= 0. 学习率, momentum: float >= 0. 参数，用于加速 SGD 在相关方向上前进，并抑制震荡\n",
    "            optimizer=SGD(lr=1e-3,momentum=0.9),\n",
    "            # 损失函数,多分类采用 categorical_crossentropy\n",
    "            loss='categorical_crossentropy',\n",
    "            # 评价函数 训练和测试期间的模型评估标准 除了损失函数值之外的特定指标, 分类问题一般都是准确率\n",
    "            metrics=['accuracy'])\n",
    "    # 训练\n",
    "    model.fit_generator(\n",
    "            # 一个生成器或 Sequence 对象的实例\n",
    "            generator=train_generator,\n",
    "            # epochs: 整数，数据的迭代总轮数。\n",
    "            epochs=3,\n",
    "            # 一个epoch包含的步数,通常应该等于你的数据集的样本数量除以批量大小。\n",
    "            steps_per_epoch=9373 //256,\n",
    "            # 验证集\n",
    "            validation_data=validation_generator,\n",
    "             # 在验证集上,一个epoch包含的步数,通常应该等于你的数据集的样本数量除以批量大小。\n",
    "            validation_steps=1039// 256,\n",
    "            )\n",
    "    model.save(save_model_path)\n",
    "    return model\n",
    "# 评估模型\n",
    "def evaluate_mode(validation_generator, save_model_path):\n",
    "     # 加载模型\n",
    "    model = load_model('D:/Anaconda/Anaconda3/envs/tensorflow/Lib/site-packages/tensorflow_core/python/keras/api/keras/models/vgg16.h5')\n",
    "    # 获取验证集的 loss 和 accuracy\n",
    "    loss, accuracy = model.evaluate_generator(validation_generator)\n",
    "    print(\"\\nLoss: %.2f, Accuracy: %.2f%%\" % (loss, accuracy * 100))"
   ]
  },
  {
   "cell_type": "code",
   "execution_count": 5,
   "metadata": {
    "ExecuteTime": {
     "end_time": "2020-11-30T11:43:01.726664Z",
     "start_time": "2020-11-30T08:57:58.520206Z"
    }
   },
   "outputs": [
    {
     "name": "stdout",
     "output_type": "stream",
     "text": [
      "Found 9373 images belonging to 4 classes.\n",
      "Found 1039 images belonging to 4 classes.\n",
      "Epoch 1/3\n",
      "36/36 [==============================] - 3265s 91s/step - loss: 0.9083 - accuracy: 0.6334 - val_loss: 0.5854 - val_accuracy: 0.7988\n",
      "Epoch 2/3\n",
      "36/36 [==============================] - 3288s 91s/step - loss: 0.4608 - accuracy: 0.8322 - val_loss: 0.6355 - val_accuracy: 0.7918\n",
      "Epoch 3/3\n",
      "36/36 [==============================] - 3258s 91s/step - loss: 0.3367 - accuracy: 0.8796 - val_loss: 0.4528 - val_accuracy: 0.8582\n",
      "\n",
      "Loss: 0.46, Accuracy: 84.31%\n"
     ]
    }
   ],
   "source": [
    "def main():\n",
    "    \"\"\"\n",
    "    深度学习模型训练流程,包含数据处理、创建模型、训练模型、模型保存、评价模型等。\n",
    "    如果对训练出来的模型不满意,你可以通过调整模型的参数等方法重新训练模型,直至训练出你满意的模型。\n",
    "    如果你对自己训练出来的模型非常满意,则可以提交作业!\n",
    "    :return:\n",
    "    \"\"\"\n",
    "    data_path = \"train/\"  # 数据集路径\n",
    "    save_model_path = 'D:/Anaconda/Anaconda3/envs/tensorflow/Lib/site-packages/tensorflow_core/python/keras/api/keras/models/vgg16.h5'  # 保存模型路径和名称\n",
    "    # 获取数据\n",
    "    train_generator, validation_generator = processing_data(data_path)\n",
    "    # 创建、训练和保存模型\n",
    "    model(train_generator, validation_generator, save_model_path)\n",
    "    # 评估模型\n",
    "    evaluate_mode(validation_generator, save_model_path)\n",
    "\n",
    "if __name__ == '__main__':\n",
    "    main()"
   ]
  },
  {
   "cell_type": "markdown",
   "metadata": {},
   "source": [
    "# 模型预测"
   ]
  },
  {
   "cell_type": "code",
   "execution_count": 88,
   "metadata": {
    "ExecuteTime": {
     "end_time": "2020-11-30T13:43:53.870126Z",
     "start_time": "2020-11-30T13:43:53.831680Z"
    }
   },
   "outputs": [
    {
     "ename": "AttributeError",
     "evalue": "'function' object has no attribute 'predict'",
     "output_type": "error",
     "traceback": [
      "\u001b[1;31m---------------------------------------------------------------------------\u001b[0m",
      "\u001b[1;31mAttributeError\u001b[0m                            Traceback (most recent call last)",
      "\u001b[1;32m<ipython-input-88-cf40ce2b9550>\u001b[0m in \u001b[0;36m<module>\u001b[1;34m\u001b[0m\n\u001b[0;32m     23\u001b[0m \u001b[1;31m# 定义字体\u001b[0m\u001b[1;33m\u001b[0m\u001b[1;33m\u001b[0m\u001b[1;33m\u001b[0m\u001b[0m\n\u001b[0;32m     24\u001b[0m \u001b[0mfont\u001b[0m \u001b[1;33m=\u001b[0m \u001b[0mcv2\u001b[0m\u001b[1;33m.\u001b[0m\u001b[0mFONT_HERSHEY_SIMPLEX\u001b[0m\u001b[1;33m\u001b[0m\u001b[1;33m\u001b[0m\u001b[0m\n\u001b[1;32m---> 25\u001b[1;33m \u001b[0mcv2\u001b[0m\u001b[1;33m.\u001b[0m\u001b[0mputText\u001b[0m\u001b[1;33m(\u001b[0m\u001b[0mframe\u001b[0m\u001b[1;33m,\u001b[0m\u001b[0mpredict\u001b[0m\u001b[1;33m(\u001b[0m\u001b[0mimg_path\u001b[0m\u001b[1;33m)\u001b[0m\u001b[1;33m,\u001b[0m \u001b[1;33m(\u001b[0m\u001b[1;36m10\u001b[0m\u001b[1;33m,\u001b[0m \u001b[1;36m140\u001b[0m\u001b[1;33m)\u001b[0m\u001b[1;33m,\u001b[0m \u001b[0mfont\u001b[0m\u001b[1;33m,\u001b[0m \u001b[1;36m3\u001b[0m\u001b[1;33m,\u001b[0m \u001b[1;33m(\u001b[0m\u001b[1;36m255\u001b[0m\u001b[1;33m,\u001b[0m \u001b[1;36m0\u001b[0m\u001b[1;33m,\u001b[0m \u001b[1;36m0\u001b[0m\u001b[1;33m)\u001b[0m\u001b[1;33m,\u001b[0m \u001b[1;36m2\u001b[0m\u001b[1;33m,\u001b[0m \u001b[0mcv2\u001b[0m\u001b[1;33m.\u001b[0m\u001b[0mLINE_AA\u001b[0m\u001b[1;33m)\u001b[0m\u001b[1;33m\u001b[0m\u001b[1;33m\u001b[0m\u001b[0m\n\u001b[0m\u001b[0;32m     26\u001b[0m \u001b[0mcv2\u001b[0m\u001b[1;33m.\u001b[0m\u001b[0mimwrite\u001b[0m\u001b[1;33m(\u001b[0m\u001b[1;34m'results/pred.jpg'\u001b[0m\u001b[1;33m,\u001b[0m \u001b[0mframe\u001b[0m\u001b[1;33m)\u001b[0m\u001b[1;33m\u001b[0m\u001b[1;33m\u001b[0m\u001b[0m\n\u001b[0;32m     27\u001b[0m \u001b[0mcv2\u001b[0m\u001b[1;33m.\u001b[0m\u001b[0mimshow\u001b[0m\u001b[1;33m(\u001b[0m\u001b[1;34m'img'\u001b[0m\u001b[1;33m,\u001b[0m \u001b[0mframe\u001b[0m\u001b[1;33m)\u001b[0m\u001b[1;33m\u001b[0m\u001b[1;33m\u001b[0m\u001b[0m\n",
      "\u001b[1;32m<ipython-input-88-cf40ce2b9550>\u001b[0m in \u001b[0;36mpredict\u001b[1;34m(img_path)\u001b[0m\n\u001b[0;32m      8\u001b[0m     \u001b[0mx\u001b[0m \u001b[1;33m=\u001b[0m \u001b[0mnp\u001b[0m\u001b[1;33m.\u001b[0m\u001b[0mexpand_dims\u001b[0m\u001b[1;33m(\u001b[0m\u001b[0mimg\u001b[0m\u001b[1;33m,\u001b[0m \u001b[0maxis\u001b[0m\u001b[1;33m=\u001b[0m\u001b[1;36m0\u001b[0m\u001b[1;33m)\u001b[0m\u001b[1;33m\u001b[0m\u001b[1;33m\u001b[0m\u001b[0m\n\u001b[0;32m      9\u001b[0m     \u001b[1;31m# 模型预测\u001b[0m\u001b[1;33m\u001b[0m\u001b[1;33m\u001b[0m\u001b[1;33m\u001b[0m\u001b[0m\n\u001b[1;32m---> 10\u001b[1;33m     \u001b[0my\u001b[0m \u001b[1;33m=\u001b[0m\u001b[0mmodel\u001b[0m\u001b[1;33m.\u001b[0m\u001b[0mpredict\u001b[0m\u001b[1;33m(\u001b[0m\u001b[0mx\u001b[0m\u001b[1;33m)\u001b[0m\u001b[1;33m\u001b[0m\u001b[1;33m\u001b[0m\u001b[0m\n\u001b[0m\u001b[0;32m     11\u001b[0m \u001b[1;33m\u001b[0m\u001b[0m\n\u001b[0;32m     12\u001b[0m     \u001b[1;31m# 获取labels\u001b[0m\u001b[1;33m\u001b[0m\u001b[1;33m\u001b[0m\u001b[1;33m\u001b[0m\u001b[0m\n",
      "\u001b[1;31mAttributeError\u001b[0m: 'function' object has no attribute 'predict'"
     ]
    }
   ],
   "source": [
    "def predict(img_path):\n",
    "    global model\n",
    "    # 把图片转换成为numpy数组\n",
    "    img = img = image.load_img(img_path, target_size=(150, 150))\n",
    "    img = image.img_to_array(img)\n",
    "\n",
    "    # expand_dims的作用是把img.shape转换成(1, img.shape[0], img.shape[1], img.shape[2])\n",
    "    x = np.expand_dims(img, axis=0)\n",
    "    # 模型预测\n",
    "    y =model.predict(x)\n",
    "\n",
    "    # 获取labels\n",
    "    labels = {0: '厨余垃圾', 1: '可回收物', 2: '其他垃圾', 3: '有害垃圾'}\n",
    "    \n",
    "    # -------------------------------------------------------------------------\n",
    "    predict = labels[np.argmax(y)]\n",
    "    \n",
    "\n",
    "    # 返回图片的类别\n",
    "    return predict\n",
    "img_path = 'testImg/img_PE塑料袋_2.jpg'\n",
    "frame = cv2.imread(img_path)\n",
    "# 定义字体\n",
    "font = cv2.FONT_HERSHEY_SIMPLEX\n",
    "cv2.putText(frame,predict(img_path), (10, 140), font, 3, (255, 0, 0), 2, cv2.LINE_AA)\n",
    "cv2.imwrite('results/pred.jpg', frame)\n",
    "cv2.imshow('img', frame)\n",
    "cv2.waitKey(0)"
   ]
  },
  {
   "cell_type": "code",
   "execution_count": 78,
   "metadata": {
    "ExecuteTime": {
     "end_time": "2020-11-30T13:24:14.093352Z",
     "start_time": "2020-11-30T13:24:13.910667Z"
    }
   },
   "outputs": [
    {
     "ename": "TclError",
     "evalue": "image \"pyimage2\" doesn't exist",
     "output_type": "error",
     "traceback": [
      "\u001b[1;31m---------------------------------------------------------------------------\u001b[0m",
      "\u001b[1;31mTclError\u001b[0m                                  Traceback (most recent call last)",
      "\u001b[1;32m<ipython-input-78-553d27383339>\u001b[0m in \u001b[0;36m<module>\u001b[1;34m\u001b[0m\n\u001b[0;32m     55\u001b[0m \u001b[0mpil_image\u001b[0m \u001b[1;33m=\u001b[0m \u001b[0mImage\u001b[0m\u001b[1;33m.\u001b[0m\u001b[0mopen\u001b[0m\u001b[1;33m(\u001b[0m\u001b[0murl\u001b[0m\u001b[1;33m)\u001b[0m\u001b[1;33m\u001b[0m\u001b[1;33m\u001b[0m\u001b[0m\n\u001b[0;32m     56\u001b[0m \u001b[0mimg\u001b[0m\u001b[1;33m=\u001b[0m \u001b[0mImageTk\u001b[0m\u001b[1;33m.\u001b[0m\u001b[0mPhotoImage\u001b[0m\u001b[1;33m(\u001b[0m\u001b[0mpil_image\u001b[0m\u001b[1;33m)\u001b[0m\u001b[1;33m\u001b[0m\u001b[1;33m\u001b[0m\u001b[0m\n\u001b[1;32m---> 57\u001b[1;33m \u001b[0mlabel_img\u001b[0m \u001b[1;33m=\u001b[0m \u001b[0mttk\u001b[0m\u001b[1;33m.\u001b[0m\u001b[0mLabel\u001b[0m\u001b[1;33m(\u001b[0m\u001b[0mwindow\u001b[0m\u001b[1;33m,\u001b[0m \u001b[0mimage\u001b[0m \u001b[1;33m=\u001b[0m \u001b[0mimg\u001b[0m \u001b[1;33m,\u001b[0m\u001b[0mcompound\u001b[0m\u001b[1;33m=\u001b[0m\u001b[0mCENTER\u001b[0m\u001b[1;33m)\u001b[0m\u001b[1;33m\u001b[0m\u001b[1;33m\u001b[0m\u001b[0m\n\u001b[0m\u001b[0;32m     58\u001b[0m \u001b[0mlabel_img\u001b[0m\u001b[1;33m.\u001b[0m\u001b[0mgrid\u001b[0m\u001b[1;33m(\u001b[0m\u001b[0mcolumn\u001b[0m\u001b[1;33m=\u001b[0m\u001b[1;36m0\u001b[0m\u001b[1;33m,\u001b[0m \u001b[0mrow\u001b[0m\u001b[1;33m=\u001b[0m\u001b[1;36m2\u001b[0m\u001b[1;33m,\u001b[0m \u001b[0msticky\u001b[0m\u001b[1;33m=\u001b[0m\u001b[0mW\u001b[0m\u001b[1;33m)\u001b[0m\u001b[1;33m\u001b[0m\u001b[1;33m\u001b[0m\u001b[0m\n\u001b[0;32m     59\u001b[0m \u001b[1;33m\u001b[0m\u001b[0m\n",
      "\u001b[1;32mD:\\Anaconda\\Anaconda3\\envs\\tensorflow\\lib\\tkinter\\ttk.py\u001b[0m in \u001b[0;36m__init__\u001b[1;34m(self, master, **kw)\u001b[0m\n\u001b[0;32m    759\u001b[0m             \u001b[0mrelief\u001b[0m\u001b[1;33m,\u001b[0m \u001b[0mtext\u001b[0m\u001b[1;33m,\u001b[0m \u001b[0mwraplength\u001b[0m\u001b[1;33m\u001b[0m\u001b[1;33m\u001b[0m\u001b[0m\n\u001b[0;32m    760\u001b[0m         \"\"\"\n\u001b[1;32m--> 761\u001b[1;33m         \u001b[0mWidget\u001b[0m\u001b[1;33m.\u001b[0m\u001b[0m__init__\u001b[0m\u001b[1;33m(\u001b[0m\u001b[0mself\u001b[0m\u001b[1;33m,\u001b[0m \u001b[0mmaster\u001b[0m\u001b[1;33m,\u001b[0m \u001b[1;34m\"ttk::label\"\u001b[0m\u001b[1;33m,\u001b[0m \u001b[0mkw\u001b[0m\u001b[1;33m)\u001b[0m\u001b[1;33m\u001b[0m\u001b[1;33m\u001b[0m\u001b[0m\n\u001b[0m\u001b[0;32m    762\u001b[0m \u001b[1;33m\u001b[0m\u001b[0m\n\u001b[0;32m    763\u001b[0m \u001b[1;33m\u001b[0m\u001b[0m\n",
      "\u001b[1;32mD:\\Anaconda\\Anaconda3\\envs\\tensorflow\\lib\\tkinter\\ttk.py\u001b[0m in \u001b[0;36m__init__\u001b[1;34m(self, master, widgetname, kw)\u001b[0m\n\u001b[0;32m    557\u001b[0m             \u001b[1;31m# Load tile now, if needed\u001b[0m\u001b[1;33m\u001b[0m\u001b[1;33m\u001b[0m\u001b[1;33m\u001b[0m\u001b[0m\n\u001b[0;32m    558\u001b[0m             \u001b[0m_load_tile\u001b[0m\u001b[1;33m(\u001b[0m\u001b[0mmaster\u001b[0m\u001b[1;33m)\u001b[0m\u001b[1;33m\u001b[0m\u001b[1;33m\u001b[0m\u001b[0m\n\u001b[1;32m--> 559\u001b[1;33m         \u001b[0mtkinter\u001b[0m\u001b[1;33m.\u001b[0m\u001b[0mWidget\u001b[0m\u001b[1;33m.\u001b[0m\u001b[0m__init__\u001b[0m\u001b[1;33m(\u001b[0m\u001b[0mself\u001b[0m\u001b[1;33m,\u001b[0m \u001b[0mmaster\u001b[0m\u001b[1;33m,\u001b[0m \u001b[0mwidgetname\u001b[0m\u001b[1;33m,\u001b[0m \u001b[0mkw\u001b[0m\u001b[1;33m=\u001b[0m\u001b[0mkw\u001b[0m\u001b[1;33m)\u001b[0m\u001b[1;33m\u001b[0m\u001b[1;33m\u001b[0m\u001b[0m\n\u001b[0m\u001b[0;32m    560\u001b[0m \u001b[1;33m\u001b[0m\u001b[0m\n\u001b[0;32m    561\u001b[0m \u001b[1;33m\u001b[0m\u001b[0m\n",
      "\u001b[1;32mD:\\Anaconda\\Anaconda3\\envs\\tensorflow\\lib\\tkinter\\__init__.py\u001b[0m in \u001b[0;36m__init__\u001b[1;34m(self, master, widgetName, cnf, kw, extra)\u001b[0m\n\u001b[0;32m   2297\u001b[0m             \u001b[1;32mdel\u001b[0m \u001b[0mcnf\u001b[0m\u001b[1;33m[\u001b[0m\u001b[0mk\u001b[0m\u001b[1;33m]\u001b[0m\u001b[1;33m\u001b[0m\u001b[1;33m\u001b[0m\u001b[0m\n\u001b[0;32m   2298\u001b[0m         self.tk.call(\n\u001b[1;32m-> 2299\u001b[1;33m             (widgetName, self._w) + extra + self._options(cnf))\n\u001b[0m\u001b[0;32m   2300\u001b[0m         \u001b[1;32mfor\u001b[0m \u001b[0mk\u001b[0m\u001b[1;33m,\u001b[0m \u001b[0mv\u001b[0m \u001b[1;32min\u001b[0m \u001b[0mclasses\u001b[0m\u001b[1;33m:\u001b[0m\u001b[1;33m\u001b[0m\u001b[1;33m\u001b[0m\u001b[0m\n\u001b[0;32m   2301\u001b[0m             \u001b[0mk\u001b[0m\u001b[1;33m.\u001b[0m\u001b[0mconfigure\u001b[0m\u001b[1;33m(\u001b[0m\u001b[0mself\u001b[0m\u001b[1;33m,\u001b[0m \u001b[0mv\u001b[0m\u001b[1;33m)\u001b[0m\u001b[1;33m\u001b[0m\u001b[1;33m\u001b[0m\u001b[0m\n",
      "\u001b[1;31mTclError\u001b[0m: image \"pyimage2\" doesn't exist"
     ]
    }
   ],
   "source": [
    "# coding=utf-8\n",
    "import tkinter as tk\n",
    "from tkinter import *\n",
    "from tkinter import ttk\n",
    "from PIL import Image, ImageTk\n",
    " \n",
    "# 创建窗口 设定大小并命名\n",
    "window = tk.Tk()\n",
    "window.title('垃圾分类')\n",
    "window.geometry('1050x500')\n",
    "global img_png           # 定义全局变量 图像的\n",
    "var = tk.StringVar()    # 这时文字变量储存器\n",
    " \n",
    "mainframe = ttk.Frame(window, padding=\"5 4 12 12\")\n",
    "mainframe.grid(column=0, row=0, sticky=(N, W, E, S))\n",
    "mainframe.columnconfigure(0, weight=1)\n",
    "mainframe.rowconfigure(0, weight=1)\n",
    " \n",
    "def openImg():\n",
    "    global img_png\n",
    "    var.set('已打开')\n",
    "    Img = Image.open('test/img_奥利奥饼干_19.jpg')\n",
    "    img_png = ImageTk.PhotoImage(Img)\n",
    "    label_Img2 = tk.Label(image=img_png).grid(column=2, row=2, sticky=W)\n",
    " \n",
    "num = 1\n",
    "def change():       #更新图片操作\n",
    "    global num\n",
    "    var.set('已预测')\n",
    "    num=num+1\n",
    "    if num%3==0:\n",
    "        url1=\"results/pred.jpg\"\n",
    "        pil_image = Image.open(url1)\n",
    "        img= ImageTk.PhotoImage(pil_image)\n",
    "        label_img.configure(image = img)\n",
    "    window.update_idletasks()   #更新图片，必须update\n",
    " \n",
    "# row = 1\n",
    "# epochs = StringVar()\n",
    "# ttk.Label(mainframe, text=\"epochs:\").grid(column=1, row=1, sticky=W)\n",
    "# addr_entry = ttk.Entry(mainframe, width=7, textvariable=epochs)\n",
    "# addr_entry.grid(column=2, row=1, sticky=(W, E))\n",
    "#\n",
    "# ttk.Button(mainframe, text=\"Train\").grid(column=4, row=1, sticky=W)\n",
    " \n",
    "# row = 2\n",
    "ttk.Button(mainframe, text=\"打开\", command=openImg).grid(column=1, row=2, sticky=W)\n",
    "ttk.Button(mainframe, text=\"预测\", command=change).grid(column=3, row=2, sticky=W)\n",
    " \n",
    "# row = 3 创建文本窗口，显示当前操作状态\n",
    "ttk.Label(mainframe, text=\"状态\").grid(column=1, row=3, sticky=W)\n",
    "ttk.Label(mainframe, textvariable=var).grid(column=3, row=3, sticky=W)\n",
    " \n",
    "url = \"testImg/logo.jpg\"\n",
    "pil_image = Image.open(url)\n",
    "img= ImageTk.PhotoImage(pil_image)\n",
    "label_img = ttk.Label(window, image = img ,compound=CENTER)\n",
    "label_img.grid(column=0, row=2, sticky=W)\n",
    " \n",
    "# 运行整体窗口\n",
    "window.mainloop()"
   ]
  },
  {
   "cell_type": "code",
   "execution_count": null,
   "metadata": {},
   "outputs": [],
   "source": []
  },
  {
   "cell_type": "code",
   "execution_count": null,
   "metadata": {},
   "outputs": [],
   "source": []
  }
 ],
 "metadata": {
  "kernelspec": {
   "display_name": "Python 3",
   "language": "python",
   "name": "python3"
  },
  "language_info": {
   "codemirror_mode": {
    "name": "ipython",
    "version": 3
   },
   "file_extension": ".py",
   "mimetype": "text/x-python",
   "name": "python",
   "nbconvert_exporter": "python",
   "pygments_lexer": "ipython3",
   "version": "3.7.6"
  }
 },
 "nbformat": 4,
 "nbformat_minor": 4
}
